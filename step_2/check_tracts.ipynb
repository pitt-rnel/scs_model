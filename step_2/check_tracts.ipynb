{
 "cells": [
  {
   "cell_type": "code",
   "execution_count": 3,
   "metadata": {},
   "outputs": [
    {
     "name": "stdout",
     "output_type": "stream",
     "text": [
      "L6_l_d.txt 1318, max: 16454.431960049937\n",
      "L6_l_v.txt 967, max: 57050.147492625365\n",
      "L6_r_d.txt 1269, max: 15842.696629213484\n",
      "L6_r_v.txt 510, max: 30088.495575221237\n",
      "L7_l_d.txt 3055, max: 21860.46511627907\n",
      "L7_l_v.txt 4362, max: 148620.10221465077\n",
      "L7_r_d.txt 2314, max: 16558.13953488372\n",
      "L7_r_v.txt 7655, max: 260817.71720613286\n",
      "S1_l_d.txt 4796, max: 59577.63975155279\n",
      "S1_l_v.txt 1596, max: 42390.43824701195\n",
      "S1_r_d.txt 1571, max: 19515.52795031056\n",
      "S1_r_v.txt 2711, max: 72005.31208499336\n",
      "S2_l_d.txt 4475, max: 69704.04984423677\n",
      "S2_l_v.txt 6056, max: 279722.86374133953\n",
      "S2_r_d.txt 1671, max: 26028.03738317757\n",
      "S2_r_v.txt 794, max: 36674.3648960739\n",
      "S3_l_d.txt 10862, max: 696282.0512820513\n",
      "S3_l_v.txt 1798, max: 125734.26573426573\n",
      "S3_r_d.txt 961, max: 61602.56410256411\n",
      "S3_r_v.txt 3031, max: 211958.04195804195\n"
     ]
    }
   ],
   "source": [
    "from os import listdir\n",
    "import os\n",
    "\n",
    "tfolder = 'P:\\\\data_raw\\\\cat\\\\scm_task_1\\\\SCS1AC003\\\\DTI\\\\Frank_2022_03 SPARC\\\\4-14-22 Tracts\\\\Tract_coord\\\\screened'\n",
    "\n",
    "tfiles = [f for f in listdir(tfolder) if os.path.isfile(os.path.join(tfolder, f))]\n",
    "\n",
    "#scale dictionary - for a run with 20k neurons\n",
    "sdict = {'L6d': 1602, 'L6v': 339, \n",
    "        'L7d': 2795, 'L7v': 587, \n",
    "        'S1d': 1610, 'S1v': 753, \n",
    "        'S2d': 1284, 'S2v': 433, \n",
    "         'S3d': 312, 'S3v': 286}\n",
    "\n",
    "for tf in tfiles: \n",
    "    with open(os.path.join(tfolder, tf), 'r') as fp: \n",
    "        for count, line in enumerate(fp):\n",
    "            pass\n",
    "    \n",
    "    \n",
    "\n",
    "    print(tf + ' ' + str(count)+ ', max: ' + str(count/sdict[tf[0:2]+tf[5]]*20000))\n",
    "    #print(tf + ' ' + str(count))\n"
   ]
  }
 ],
 "metadata": {
  "interpreter": {
   "hash": "04aea0152a41712daaac6807ddd2d32339a70603826e8f45435eebdedc72c672"
  },
  "kernelspec": {
   "display_name": "Python 3.9.7 ('base')",
   "language": "python",
   "name": "python3"
  },
  "language_info": {
   "codemirror_mode": {
    "name": "ipython",
    "version": 3
   },
   "file_extension": ".py",
   "mimetype": "text/x-python",
   "name": "python",
   "nbconvert_exporter": "python",
   "pygments_lexer": "ipython3",
   "version": "3.9.7"
  },
  "orig_nbformat": 4
 },
 "nbformat": 4,
 "nbformat_minor": 2
}
